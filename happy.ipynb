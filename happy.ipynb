{
  "nbformat": 4,
  "nbformat_minor": 0,
  "metadata": {
    "colab": {
      "provenance": [],
      "authorship_tag": "ABX9TyMSB/YqxyYtgRWzP3/l+xXO",
      "include_colab_link": true
    },
    "kernelspec": {
      "name": "python3",
      "display_name": "Python 3"
    },
    "language_info": {
      "name": "python"
    }
  },
  "cells": [
    {
      "cell_type": "markdown",
      "metadata": {
        "id": "view-in-github",
        "colab_type": "text"
      },
      "source": [
        "<a href=\"https://colab.research.google.com/github/fardsnog2/ML_vvsu/blob/main/happy.ipynb\" target=\"_parent\"><img src=\"https://colab.research.google.com/assets/colab-badge.svg\" alt=\"Open In Colab\"/></a>"
      ]
    },
    {
      "cell_type": "code",
      "source": [
        "import matplotlib.pyplot as plt\n",
        "import numpy as np\n",
        "\n",
        "# Задаем функцию\n",
        "def f(x):\n",
        "    return np.sqrt(25-(x+10)**2)+10\n",
        "def g(x):\n",
        "    return -np.sqrt(25-(x+10)**2)+10\n",
        "def eight(x):\n",
        "    return np.sqrt(6.25-(x+2.5)**2)+7.5\n",
        "\n",
        "def eight_minus(x):\n",
        "    return -np.sqrt(6.25-(x+2.5)**2)+7.5\n",
        "\n",
        "\n",
        "def eight_sec(x):\n",
        "    return np.sqrt(6.25-(x+2.5)**2)+12.5\n",
        "\n",
        "def eight_minus_sec(x):\n",
        "    return -np.sqrt(6.25-(x+2.5)**2)+12.5\n",
        "\n",
        "def palka (x):\n",
        "    return [5]*len(x)\n",
        "def palka_sec (x):\n",
        "    return [15]*len(x)\n",
        "\n",
        "def v(x):\n",
        "    return -x *0.5+17.5\n",
        "\n",
        "def v_p(x):\n",
        "    return x*0.5+7.5\n",
        "\n",
        "def a_l_p(x):\n",
        "    return x*2-35\n",
        "def a_r_p(x):\n",
        "    return -x*2+65\n",
        "\n",
        "def palka_y (x):\n",
        "    return [10]*len(x)\n",
        "\n",
        "def r_palka(x):\n",
        "    return [35]*len(x)\n",
        "\n",
        "\n",
        "def r_circle(x):\n",
        "    return 2.5*np.sqrt(1-(x-35)**2/25)+12.5\n",
        "\n",
        "def r_circle_s(x):\n",
        "    return -2.5*np.sqrt(1-(x-35)**2/25)+12.5\n",
        "\n",
        "def t_palka(X):\n",
        "    return [50]*len(x)\n",
        "\n",
        "def t_palka_gor(X):\n",
        "    return [15]*len(x)\n",
        "\n",
        "\n",
        "def a_l_p_last(x):\n",
        "    return x*2-115\n",
        "def a_r_p_last(x):\n",
        "    return -x*2+145\n",
        "\n",
        "def palka_y_last (x):\n",
        "    return [10]*len(x)"
      ],
      "metadata": {
        "id": "9QhFEVSRuSoE"
      },
      "execution_count": 56,
      "outputs": []
    },
    {
      "cell_type": "code",
      "source": [
        "x = np.linspace(-15, -10, 100)  # Генерируем значения x от -5 до 5\n",
        "y = f(x)  # Вычисляем значения y\n",
        "y1=g(x)\n",
        "x_e = np.linspace(-5, 0, 100)\n",
        "y_e = eight(x_e)\n",
        "y_e_m = eight_minus(x_e)\n",
        "y_e_s = eight_sec(x_e)\n",
        "y_e_m_s = eight_minus_sec(x_e)\n",
        "\n",
        "y_pal= np.linspace(5, 15, 100)\n",
        "x_pal = palka(y_pal)\n",
        "x_pal_sec = palka_sec(y_pal)\n",
        "\n",
        "x_v = np.linspace(5, 10, 100)\n",
        "y_v = v(x_v)\n",
        "\n",
        "x_v_p = np.linspace(10, 15, 100)\n",
        "y_v_p = v_p(x_v_p)\n",
        "\n",
        "a_l = np.linspace(20, 25, 100)\n",
        "y_l=a_l_p(a_l)\n",
        "\n",
        "a_r = np.linspace(25, 30, 100)\n",
        "y_r = a_r_p(a_r)\n",
        "\n",
        "x_p_a = np.linspace(22.5, 27.5, 100)\n",
        "y_p_a = palka_y(x_p_a)\n",
        "\n",
        "y_r_palka = np.linspace(5, 15, 100)\n",
        "x_r_palka = r_palka(y_r_palka)\n",
        "\n",
        "x_r_circle = np.linspace(35, 40, 100)\n",
        "y_r_circle_f = r_circle(x_r_circle)\n",
        "y_r_circle_s = r_circle_s(x_r_circle)\n",
        "\n",
        "y_t_palka = np.linspace(5, 15, 100)\n",
        "x_t_palka = t_palka(y_t_palka)\n",
        "\n",
        "\n",
        "x_t_palka_gor = np.linspace(40, 60, 100)\n",
        "y_t_palka_gor=t_palka_gor(x_t_palka_gor)\n",
        "\n",
        "\n",
        "\n",
        "a_l_last = np.linspace(60, 65, 100)\n",
        "y_l_last=a_l_p_last(a_l_last)\n",
        "\n",
        "a_r_last = np.linspace(65, 70, 100)\n",
        "y_r_last = a_r_p_last(a_r_last)\n",
        "\n",
        "x_r_palka_last = np.linspace(62.5, 67.5, 100)\n",
        "y_r_palka_last = palka_y_last(x_r_palka_last)"
      ],
      "metadata": {
        "id": "rULGdOJiuxNF"
      },
      "execution_count": 59,
      "outputs": []
    },
    {
      "cell_type": "markdown",
      "source": [
        "Задачи разукрасить норм\n",
        "\n",
        "добавить подписи\n",
        "\n",
        "возможно что-то еще добавить надо"
      ],
      "metadata": {
        "id": "UX9a4U723Am-"
      }
    },
    {
      "cell_type": "code",
      "source": [
        "plt.xlim(-20, 75)\n",
        "plt.ylim(0,20)\n",
        "\n",
        "plt.plot(x, y,color='red')\n",
        "plt.plot(x, y1,color='red')\n",
        "plt.plot(x_e, y_e,color='red')\n",
        "plt.plot(x_e, y_e_m,color='red')\n",
        "plt.plot(x_e, y_e_s,color='red')\n",
        "plt.plot(x_e, y_e_m_s,color='red')\n",
        "plt.plot(x_pal, y_pal,color='red')\n",
        "plt.plot(x_pal_sec, y_pal,color='red')\n",
        "plt.plot(x_v, y_v,color='red')\n",
        "plt.plot(x_v_p, y_v_p,color='red')\n",
        "plt.plot(a_l, y_l,color='red')\n",
        "plt.plot(a_r, y_r,color='red')\n",
        "plt.plot(x_p_a, y_p_a,color='red')\n",
        "plt.plot(x_r_palka, y_r_palka,color='red')\n",
        "plt.plot(x_r_circle, y_r_circle_f,color='red')\n",
        "plt.plot(x_r_circle, y_r_circle_s,color='red')\n",
        "plt.plot(x_t_palka, y_t_palka,color='red')\n",
        "plt.plot(x_t_palka_gor, y_t_palka_gor,color='red')\n",
        "\n",
        "plt.plot(a_l_last, y_l_last,color='red')\n",
        "plt.plot(a_r_last, y_r_last,color='red')\n",
        "plt.plot(x_r_palka_last, y_r_palka_last,color='red')\n",
        "plt.plot(np.linspace(-20, 75, 100),[5]*100,color='blue')\n",
        "plt.xlabel('x')  # Метка оси x\n",
        "plt.ylabel('y')  # Метка оси y\n",
        "\n",
        "plt.grid(True)  # Включаем сетку\n",
        "\n",
        "plt.show()  # Отображаем график"
      ],
      "metadata": {
        "colab": {
          "base_uri": "https://localhost:8080/",
          "height": 455
        },
        "id": "i4vl3wTCw6l4",
        "outputId": "548c87f0-5a66-4382-fd05-d75b87299a66"
      },
      "execution_count": 68,
      "outputs": [
        {
          "output_type": "display_data",
          "data": {
            "text/plain": [
              "<Figure size 640x480 with 1 Axes>"
            ],
            "image/png": "[encoded data removed]"
          },
          "metadata": {}
        }
      ]
    },
    {
      "cell_type": "code",
      "source": [],
      "metadata": {
        "id": "JZrv5S_axQ0Z"
      },
      "execution_count": 58,
      "outputs": []
    }
  ]
}